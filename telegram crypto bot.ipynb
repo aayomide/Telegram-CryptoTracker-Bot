{
 "cells": [
  {
   "cell_type": "code",
   "execution_count": 1,
   "id": "c776c188",
   "metadata": {},
   "outputs": [],
   "source": [
    "# pip install telegram\n",
    "# pip install python_telegram_bot"
   ]
  },
  {
   "cell_type": "code",
   "execution_count": 1,
   "id": "32f553da",
   "metadata": {},
   "outputs": [],
   "source": [
    "from lib2to3.pgen2 import token\n",
    "from tokenize import Token\n",
    "import telegram\n",
    "from telegram.ext import Updater\n",
    "from telegram.ext import CommandHandler\n",
    "from tracker import get_coin_data\n",
    "from credentials import TOKEN"
   ]
  },
  {
   "cell_type": "code",
   "execution_count": 3,
   "id": "6079ddda",
   "metadata": {},
   "outputs": [
    {
     "data": {
      "text/plain": [
       "<queue.Queue at 0x28339059160>"
      ]
     },
     "execution_count": 3,
     "metadata": {},
     "output_type": "execute_result"
    }
   ],
   "source": [
    "telegram_bot_token = TOKEN()\n",
    "\n",
    "updater = Updater(token=telegram_bot_token, use_context=True)\n",
    "dispatcher = updater.dispatcher\n",
    "\n",
    "\n",
    "def start(update, context):\n",
    "    chat_id = update.effective_chat.id\n",
    "    message = \"\"\n",
    "\n",
    "    crypto_data = get_coin_data()     # get the coin ccdata\n",
    "    for i in crypto_data:\n",
    "        coin = crypto_data[i][\"coin\"]\n",
    "        price = crypto_data[i][\"price\"]\n",
    "        daily_change = crypto_data[i][\"change_day\"]\n",
    "        houry_change = crypto_data[i][\"change_hour\"]\n",
    "        message += f\"Coin: {coin}\\nPrice: ${price:,.2f}\\nHour Change: {houry_change:.3f}%\\nDay Change: {daily_change:.3f}%\\n\\n\"\n",
    "\n",
    "    context.bot.send_message(chat_id=chat_id, text=message)\n",
    "\n",
    "\n",
    "dispatcher.add_handler(CommandHandler(\"start\", start))\n",
    "updater.start_polling()"
   ]
  },
  {
   "cell_type": "markdown",
   "id": "33e58316",
   "metadata": {},
   "source": [
    "Tutorial\n",
    "<!-- <https://www.section.io/engineering-education/cryptocurrency-tracking-telegram-bot/> -->"
   ]
  },
  {
   "cell_type": "code",
   "execution_count": null,
   "id": "5c58ed71",
   "metadata": {},
   "outputs": [],
   "source": []
  }
 ],
 "metadata": {
  "kernelspec": {
   "display_name": "Python 3 (ipykernel)",
   "language": "python",
   "name": "python3"
  },
  "language_info": {
   "codemirror_mode": {
    "name": "ipython",
    "version": 3
   },
   "file_extension": ".py",
   "mimetype": "text/x-python",
   "name": "python",
   "nbconvert_exporter": "python",
   "pygments_lexer": "ipython3",
   "version": "3.8.12"
  }
 },
 "nbformat": 4,
 "nbformat_minor": 5
}
